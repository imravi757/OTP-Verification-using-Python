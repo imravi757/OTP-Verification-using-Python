{
 "cells": [
  {
   "cell_type": "code",
   "execution_count": 1,
   "id": "576dd0a5",
   "metadata": {},
   "outputs": [
    {
     "name": "stdout",
     "output_type": "stream",
     "text": [
      "Enter your registered email id:imravi757@gmail.com\n",
      "OTP has been sent to imravi757@gmail.com\n",
      "enter OTP: 702837\n",
      "Logged-in Successfully\n"
     ]
    },
    {
     "data": {
      "text/plain": [
       "(221,\n",
       " b'2.0.0 closing connection 41be03b00d2f7-ad5460b8d4bsm1521238a12.11 - gsmtp')"
      ]
     },
     "execution_count": 1,
     "metadata": {},
     "output_type": "execute_result"
    }
   ],
   "source": [
    "# Importing Libraries\n",
    "import random  # Used to generate random numbers (for OTP)\n",
    "import smtplib  # Used to send emails via SMTP protocol\n",
    "\n",
    "# Generating a random 6-digit OTP\n",
    "otp = random.randint(100000, 999999)  # Generates a random integer between 100000 and 999999\n",
    "\n",
    "# Setting up the SMTP server\n",
    "server = smtplib.SMTP('smtp.gmail.com', 587)  # Connects to Gmail's SMTP server on port 587\n",
    "# server = smtplib.SMTP('64.233.184.108', 587)  # Alternative: Connects using Gmail's IP address to bypass DNS resolution\n",
    "server.starttls()  # Starts a TLS-encrypted connection for secure communication\n",
    "\n",
    "# Prompting the user to enter their email address\n",
    "global receiver_email  # Declares a global variable to store the receiver's email\n",
    "receiver_email = input(\"Enter your registered email id:\")  # Takes user input for the email address\n",
    "\n",
    "# Function to verify the email address\n",
    "def email_verification(receiver_email):\n",
    "    email_domain = [\"gmail\", \"hotmail\", \"yahoo\", \"outlook\", \"aol\"]  # List of valid email domains\n",
    "    email_site = [\".com\", \".in\", \".org\", \".edu\", \".co.in\"]  # List of valid top-level domains (TLDs)\n",
    "    count = 0  # Counter to track valid domain and TLD matches\n",
    "\n",
    "    # Check if the email contains a valid domain\n",
    "    for domain in email_domain:\n",
    "        if domain in receiver_email:  # If the domain is found in the email\n",
    "            count = count + 1  # Increment the counter\n",
    "\n",
    "    # Check if the email contains a valid TLD\n",
    "    for site in email_site:\n",
    "        if site in receiver_email:  # If the TLD is found in the email\n",
    "            count = count + 1  # Increment the counter\n",
    "\n",
    "    # Validate the email format\n",
    "    if \"@\" not in receiver_email or count != 2:  # If \"@\" is missing or domain/TLD validation fails\n",
    "        print(\"The email id you have entered is invalid.\")  # Notify the user\n",
    "        new_receiver_email = input(\"Enter correct email id: \")  # Prompt for a new email\n",
    "        email_verification(new_receiver_email)  # Recursively call the function to validate the new email\n",
    "        return new_receiver_email  # Return the validated email\n",
    "    return receiver_email  # Return the original email if it is valid\n",
    "\n",
    "# Validate the receiver's email address\n",
    "valid_receiver_email = email_verification(receiver_email)  # Calls the email verification function\n",
    "\n",
    "# Gmail account credentials (sender's email and app password)\n",
    "password = \"oecr summ rjvh vobe\"  # App password for the sender's Gmail account\n",
    "server.login(\"imravi757@gmail.com\", password)  # Logs into the SMTP server using the sender's credentials\n",
    "\n",
    "# Preparing the email content\n",
    "body = f\"{otp} is your login Code.\"  # Body of the email containing the OTP\n",
    "subject = \"Login Code\"  # Subject of the email\n",
    "message = f'subject:{subject}\\n\\n{body}'  # Combines subject and body into a properly formatted email message\n",
    "\n",
    "# Sending the email\n",
    "server.sendmail(\"imravi757@gmail.com\", valid_receiver_email, message)  # Sends the email to the receiver\n",
    "\n",
    "# Function to resend OTP\n",
    "def sending_otp(receiver_email):\n",
    "    new_otp = random.randint(100000, 999999)  # Generates a new 6-digit OTP\n",
    "\n",
    "    # Preparing the email content for the new OTP\n",
    "    body = f\"{new_otp} is your login code.\"  # Body of the email containing the new OTP\n",
    "    subject = \"Login Code\"  # Subject of the email\n",
    "    message = f'subject:{subject}\\n\\n{body}'  # Combines subject and body into a properly formatted email message\n",
    "\n",
    "    # Sending the new OTP email\n",
    "    server.sendmail(\"imravi757@gmail.com\", receiver_email, message)  # Sends the email to the receiver\n",
    "    print(\"OTP has been sent to\", receiver_email)  # Notifies the user that the OTP has been sent\n",
    "\n",
    "    # Prompting the user to enter the OTP\n",
    "    received_otp = int(input(\"enter OTP: \"))  # Takes user input for the OTP\n",
    "\n",
    "    # Verifying the OTP\n",
    "    if received_otp == new_otp:  # If the entered OTP matches the generated OTP\n",
    "        print(\"OTP verified\")  # Notify the user that OTP is verified\n",
    "    else:  # If the OTP does not match\n",
    "        print(\"invalid OTP\")  # Notify the user that the OTP is invalid\n",
    "        print(\"resending OTP.....\")  # Inform the user that a new OTP is being sent\n",
    "        sending_otp(receiver_email)  # Recursively call the function to resend the OTP\n",
    "\n",
    "# Notifying the user that the OTP has been sent\n",
    "print(\"OTP has been sent to\", valid_receiver_email)  # Displays the receiver's email address\n",
    "\n",
    "# Prompting the user to enter the OTP\n",
    "received_otp = int(input(\"enter OTP: \"))  # Takes user input for the OTP\n",
    "\n",
    "# Verifying the OTP\n",
    "if received_otp == otp:  # If the entered OTP matches the generated OTP\n",
    "    print(\"Logged-in Successfully\")  # Notify the user of successful login\n",
    "else:  # If the OTP does not match\n",
    "    print(\"incorrect OTP\")  # Notify the user that the OTP is incorrect\n",
    "    answer = input(\"Enter yes to resend OTP on same email and no to enter a new email id:\")  # Prompt the user for action\n",
    "    YES = ['YES', 'yes', 'Yes']  # List of valid \"yes\" responses\n",
    "    NO = ['NO', 'no', 'No']  # List of valid \"no\" responses\n",
    "\n",
    "    # Handling the user's response\n",
    "    if answer in YES:  # If the user chooses to resend the OTP to the same email\n",
    "        sending_otp(valid_receiver_email)  # Call the function to resend the OTP\n",
    "    elif answer in NO:  # If the user chooses to enter a new email address\n",
    "        new_receiver_email = input(\"Enter new email id: \")  # Prompt for a new email address\n",
    "        email_verification(new_receiver_email)  # Validate the new email address\n",
    "        sending_otp(new_receiver_email)  # Send the OTP to the new email address\n",
    "    else:  # If the user enters an invalid response\n",
    "        print(\"invalid input\")  # Notify the user of invalid input\n",
    "\n",
    "# Dropping the user's email from memory for security\n",
    "receiver_email = None  # Overwrites the variable with None\n",
    "del receiver_email  # Deletes the variable from memory\n",
    "valid_receiver_email = None  # Overwrites the variable with None\n",
    "del valid_receiver_email  # Deletes the variable from memory\n",
    "\n",
    "# Closing the SMTP server connection\n",
    "server.quit()  # Terminates the connection to the SMTP server"
   ]
  },
  {
   "cell_type": "code",
   "execution_count": null,
   "id": "1fdab546",
   "metadata": {},
   "outputs": [],
   "source": [
    "# Checking if email is stored or not\n",
    "print(receiver_email)"
   ]
  },
  {
   "cell_type": "code",
   "execution_count": null,
   "id": "abde14f4",
   "metadata": {},
   "outputs": [],
   "source": [
    "# Checking if email is stored or not\n",
    "print(valid_receiver_email)"
   ]
  },
  {
   "cell_type": "code",
   "execution_count": null,
   "id": "ae798380",
   "metadata": {},
   "outputs": [],
   "source": []
  }
 ],
 "metadata": {
  "kernelspec": {
   "display_name": "Python 3 (ipykernel)",
   "language": "python",
   "name": "python3"
  },
  "language_info": {
   "codemirror_mode": {
    "name": "ipython",
    "version": 3
   },
   "file_extension": ".py",
   "mimetype": "text/x-python",
   "name": "python",
   "nbconvert_exporter": "python",
   "pygments_lexer": "ipython3",
   "version": "3.9.7"
  }
 },
 "nbformat": 4,
 "nbformat_minor": 5
}
